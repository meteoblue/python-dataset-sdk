{
 "metadata": {
  "language_info": {
   "codemirror_mode": {
    "name": "ipython",
    "version": 3
   },
   "file_extension": ".py",
   "mimetype": "text/x-python",
   "name": "python",
   "nbconvert_exporter": "python",
   "pygments_lexer": "ipython3",
   "version": "3.8.7-final"
  },
  "orig_nbformat": 2,
  "kernelspec": {
   "name": "python3",
   "display_name": "Python 3",
   "language": "python"
  }
 },
 "nbformat": 4,
 "nbformat_minor": 2,
 "cells": [
  {
   "cell_type": "code",
   "execution_count": 2,
   "metadata": {},
   "outputs": [
    {
     "output_type": "stream",
     "name": "stdout",
     "text": [
      "start: 1546300800\nend: 1546387200\nstride: 3600\n\n"
     ]
    }
   ],
   "source": [
    "import logging\n",
    "import meteoblue_dataset_sdk\n",
    "\n",
    "# Display information about the current download state\n",
    "logging.basicConfig(level=logging.INFO)\n",
    "\n",
    "query = {\n",
    "    \"units\": {\n",
    "        \"temperature\": \"C\",\n",
    "        \"velocity\": \"km/h\",\n",
    "        \"length\": \"metric\",\n",
    "        \"energy\": \"watts\",\n",
    "    },\n",
    "    \"geometry\": {\n",
    "        \"type\": \"MultiPoint\",\n",
    "        \"coordinates\": [[7.57327, 47.558399, 279]],\n",
    "        \"locationNames\": [\"Basel\"],\n",
    "    },\n",
    "    \"format\": \"protobuf\",\n",
    "    \"timeIntervals\": [\"2019-01-01T+00:00/2019-01-01T+00:00\"],\n",
    "    \"timeIntervalsAlignment\": \"none\",\n",
    "    \"queries\": [\n",
    "        {\n",
    "            \"domain\": \"NEMSGLOBAL\",\n",
    "            \"gapFillDomain\": None,\n",
    "            \"timeResolution\": \"hourly\",\n",
    "            \"codes\": [{\"code\": 11, \"level\": \"2 m above gnd\"}],\n",
    "        }\n",
    "    ],\n",
    "}\n",
    "client = meteoblue_dataset_sdk.Client(apikey=\"xxxxxx\")\n",
    "result = client.querySync(query)\n",
    "# result is a structured object containing timestamps and data\n",
    "\n",
    "timeInterval = result.geometries[0].timeIntervals[0]\n",
    "data = result.geometries[0].codes[0].timeIntervals[0].data\n",
    "\n",
    "print(timeInterval)"
   ]
  },
  {
   "cell_type": "code",
   "execution_count": 3,
   "metadata": {},
   "outputs": [
    {
     "output_type": "stream",
     "name": "stdout",
     "text": [
      "[2.890000104904175, 2.690000057220459, 2.549999952316284, 2.380000114440918, 2.2699999809265137, 2.119999885559082, 1.9900000095367432, 1.8300000429153442, 1.8200000524520874, 2.0999999046325684, 2.430000066757202, 2.9200000762939453, 3.7200000286102295, 3.930000066757202, 3.9100000858306885, 3.5299999713897705, 3.130000114440918, 2.880000114440918, 2.6500000953674316, 2.4600000381469727, 2.2799999713897705, 2.0299999713897705, 1.690000057220459, 1.3799999952316284]\n"
     ]
    }
   ],
   "source": [
    "print(data)"
   ]
  },
  {
   "cell_type": "code",
   "execution_count": 4,
   "metadata": {},
   "outputs": [
    {
     "output_type": "stream",
     "name": "stdout",
     "text": [
      "geometries {\n  domain: \"NEMSGLOBAL\"\n  lats: 47.66652\n  lons: 7.5\n  asls: 499.77365\n  locationNames: \"Basel\"\n  nx: 1\n  ny: 1\n  timeResolution: \"hourly\"\n  timeIntervals {\n    start: 1546300800\n    end: 1546387200\n    stride: 3600\n  }\n  codes {\n    code: 11\n    level: \"2 m above gnd\"\n    unit: \"\\302\\260C\"\n    aggregation: \"none\"\n    timeIntervals {\n      data: 2.89\n      data: 2.69\n      data: 2.55\n      data: 2.38\n      data: 2.27\n      data: 2.12\n      data: 1.99\n      data: 1.83\n      data: 1.82\n      data: 2.1\n      data: 2.43\n      data: 2.92\n      data: 3.72\n      data: 3.93\n      data: 3.91\n      data: 3.53\n      data: 3.13\n      data: 2.88\n      data: 2.65\n      data: 2.46\n      data: 2.28\n      data: 2.03\n      data: 1.69\n      data: 1.38\n    }\n  }\n}\n\n"
     ]
    }
   ],
   "source": [
    "print(result)"
   ]
  }
 ]
}